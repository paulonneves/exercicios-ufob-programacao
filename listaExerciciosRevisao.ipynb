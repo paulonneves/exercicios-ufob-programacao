{
  "cells": [
    {
      "cell_type": "code",
      "execution_count": null,
      "metadata": {
        "id": "ipSKdXgjqEN8"
      },
      "outputs": [],
      "source": [
        "from typing import Union, List, Dict"
      ]
    },
    {
      "cell_type": "markdown",
      "metadata": {
        "id": "GOFPsa1QaC7r"
      },
      "source": [
        "## Lista de Exercícios – Revisão Python"
      ]
    },
    {
      "cell_type": "markdown",
      "metadata": {
        "id": "DOcnJ8EdaK56"
      },
      "source": [
        "1. Escreva um algoritmo para ler uma temperatura em graus Fahrenheit, calcular e\n",
        "escrever o valor correspondente em graus Celsius (baseado na fórmula abaixo):\n",
        "C = (F - 32) / 1.8"
      ]
    },
    {
      "cell_type": "code",
      "execution_count": null,
      "metadata": {
        "id": "vm8ojdD9aBMk"
      },
      "outputs": [],
      "source": [
        "def fahrenheit_to_celsius(temperature: float) -> float:\n",
        "  temperature_celsius = (temperature - 32)/1.8\n",
        "  return round(temperature_celsius, 1)"
      ]
    },
    {
      "cell_type": "code",
      "execution_count": null,
      "metadata": {
        "colab": {
          "base_uri": "https://localhost:8080/"
        },
        "id": "4Md_D7UNayYA",
        "outputId": "da59de6d-76ce-4920-95b8-c9a5b2308a65"
      },
      "outputs": [
        {
          "data": {
            "text/plain": [
              "37.8"
            ]
          },
          "execution_count": 5,
          "metadata": {},
          "output_type": "execute_result"
        }
      ],
      "source": [
        "fahrenheit_to_celsius(100)"
      ]
    },
    {
      "cell_type": "markdown",
      "metadata": {
        "id": "XD9VqJ9ca_Y3"
      },
      "source": [
        "2. Faça um programa que leia cinco números, calcule e escreva a soma, o produto e a média dos números lidos. Mostre o resultado na tela."
      ]
    },
    {
      "cell_type": "code",
      "execution_count": null,
      "metadata": {
        "id": "e_762f4obxMu"
      },
      "outputs": [],
      "source": [
        "from functools import reduce"
      ]
    },
    {
      "cell_type": "code",
      "execution_count": null,
      "metadata": {
        "id": "xGR6BtvCasjY"
      },
      "outputs": [],
      "source": [
        "def describe_values(serie: List[int]) -> Dict[str, float]:\n",
        "  sum_values = reduce(lambda a, b: a+b, serie)\n",
        "  product_values = reduce(lambda a, b: a*b, serie)\n",
        "  mean_values = sum_values/len(serie)\n",
        "  return {'soma': sum_values,\n",
        "          'produto': product_values,\n",
        "          'media': mean_values}"
      ]
    },
    {
      "cell_type": "code",
      "execution_count": null,
      "metadata": {
        "colab": {
          "base_uri": "https://localhost:8080/"
        },
        "id": "M-yV-ld5cneC",
        "outputId": "de795121-031f-437d-eb34-f706c7e2b8e3"
      },
      "outputs": [
        {
          "name": "stdout",
          "output_type": "stream",
          "text": [
            "Digite um número inteiro: 2\n",
            "Digite um número inteiro: 5\n",
            "Digite um número inteiro: 10\n",
            "Digite um número inteiro: 11\n",
            "Digite um número inteiro: 3\n",
            "{'soma': 31, 'produto': 3300, 'media': 6.2}\n"
          ]
        }
      ],
      "source": [
        "result_values = []\n",
        "\n",
        "for index in range(5):\n",
        "  value = int(input(\"Digite um número inteiro: \"))\n",
        "  result_values.append(value)\n",
        "\n",
        "print(describe_values(serie=result_values))"
      ]
    },
    {
      "cell_type": "code",
      "execution_count": null,
      "metadata": {
        "colab": {
          "base_uri": "https://localhost:8080/"
        },
        "id": "nu1TZLeQdCK4",
        "outputId": "45da0581-7e94-45c6-d6e9-2bdeaeb8adf5"
      },
      "outputs": [
        {
          "name": "stdout",
          "output_type": "stream",
          "text": [
            "Soma:  31\n",
            "Produto:  3300\n",
            "Soma:  6.2\n"
          ]
        }
      ],
      "source": [
        "print('Soma: ', 2+5+10+11+3)\n",
        "print('Produto: ', 2*5*10*11*3)\n",
        "print('Soma: ', (2+5+10+11+3)/5)"
      ]
    },
    {
      "cell_type": "markdown",
      "metadata": {
        "id": "U_MW4g-7dWy3"
      },
      "source": [
        "3. Faça um programa para ler o raio **r** de uma esfera e calcular o volume e a área dessa esfera. Dica:\n",
        "\\begin{align}\n",
        "  V = \\frac{3}{4} \\cdot \\pi \\cdot r^3\n",
        "\\end{align} e\n",
        "\\begin{align}\n",
        "A = 4 \\cdot \\pi \\cdot r^2\n",
        "\\end{align} Onde, V é volume e A é área."
      ]
    },
    {
      "cell_type": "code",
      "execution_count": null,
      "metadata": {
        "id": "poFUUKobe-Zy"
      },
      "outputs": [],
      "source": [
        "import math"
      ]
    },
    {
      "cell_type": "code",
      "execution_count": null,
      "metadata": {
        "id": "dzkyVqyVegkM"
      },
      "outputs": [],
      "source": [
        "def calc_volume_sphere(radius: float) -> float:\n",
        "  volume = (3/4) * math.pi * (radius**3)\n",
        "  return volume"
      ]
    },
    {
      "cell_type": "code",
      "execution_count": null,
      "metadata": {
        "id": "YYmrZmLufI1Q"
      },
      "outputs": [],
      "source": [
        "def calc_area_sphere(radius: float) -> float:\n",
        "  area = 4 * math.pi * (radius**2)\n",
        "  return area"
      ]
    },
    {
      "cell_type": "code",
      "execution_count": null,
      "metadata": {
        "colab": {
          "base_uri": "https://localhost:8080/"
        },
        "id": "pg1rOrEFfVNh",
        "outputId": "a21a68e0-ed69-4e14-a8c3-d7ce7adca0a8"
      },
      "outputs": [
        {
          "name": "stdout",
          "output_type": "stream",
          "text": [
            "Digite o raio da esfera: 21\n",
            "Volume da esfera:  1039.081770174824\n",
            "Área da esfera:  5541.769440932395\n"
          ]
        }
      ],
      "source": [
        "radius = float(input(\"Digite o raio da esfera: \"))\n",
        "volume_sphere = calc_volume_sphere(radius=radius)\n",
        "area_sphere = calc_area_sphere(radius=radius)\n",
        "print(\"Volume da esfera: \", volume_sphere)\n",
        "print(\"Área da esfera: \", area_sphere)"
      ]
    },
    {
      "cell_type": "markdown",
      "metadata": {
        "id": "c3ysm_Tyf-4f"
      },
      "source": [
        "4. Construa um programa que leia o valor de uma conta de luz e, caso o valor seja maior que R$ 50.00 apresente a mensagem: “Você está gastando muito”. Caso contrário não exiba mensagem nenhuma."
      ]
    },
    {
      "cell_type": "code",
      "execution_count": null,
      "metadata": {
        "id": "Qd9dZ77PgGdd"
      },
      "outputs": [],
      "source": [
        "def evaluate_electricity_bill(value: float) -> Union[str, None]:\n",
        "  if value > 50:\n",
        "    return \"Você está gastando muito!\""
      ]
    },
    {
      "cell_type": "code",
      "execution_count": null,
      "metadata": {
        "colab": {
          "base_uri": "https://localhost:8080/"
        },
        "id": "PpxMtTynghm1",
        "outputId": "2f01a0b3-436b-4256-bf1b-5c32807eee07"
      },
      "outputs": [
        {
          "name": "stdout",
          "output_type": "stream",
          "text": [
            "Qual o valor da sua conta de luz: 67\n",
            "Você está gastando muito!\n"
          ]
        }
      ],
      "source": [
        "bill_value = float(input(\"Qual o valor da sua conta de luz: \"))\n",
        "print(evaluate_electricity_bill(value=bill_value))"
      ]
    },
    {
      "cell_type": "markdown",
      "metadata": {
        "id": "YntzSTKCgf3t"
      },
      "source": [
        "5. Faça um programa para ler um número, se o número for positivo imprima seu dobro, senão imprima o número elevado a 3."
      ]
    },
    {
      "cell_type": "code",
      "execution_count": null,
      "metadata": {
        "id": "JDCm2jG9hBQ7"
      },
      "outputs": [],
      "source": [
        "def positive_case(value: float) -> float:\n",
        "  if value > 0:\n",
        "    return 2 * value\n",
        "  return value ** 3"
      ]
    },
    {
      "cell_type": "code",
      "execution_count": null,
      "metadata": {
        "colab": {
          "base_uri": "https://localhost:8080/"
        },
        "id": "13jdhCV3hj9Z",
        "outputId": "e830260d-1893-4bd4-c651-644454058e16"
      },
      "outputs": [
        {
          "name": "stdout",
          "output_type": "stream",
          "text": [
            "Digite um valor: -12\n",
            "-1728.0\n"
          ]
        }
      ],
      "source": [
        "pos_value = float(input(\"Digite um valor: \"))\n",
        "print(positive_case(value=pos_value))"
      ]
    },
    {
      "cell_type": "markdown",
      "metadata": {
        "id": "DvCbroxdh3OI"
      },
      "source": [
        "6. Faça um programa para ler um número e se ele for maior do que 20, imprimir a metade do número."
      ]
    },
    {
      "cell_type": "code",
      "execution_count": null,
      "metadata": {
        "id": "T3Y7wgW5hyRQ"
      },
      "outputs": [],
      "source": [
        "def twenty_case(value: float) -> float:\n",
        "  if value > 20:\n",
        "    return value / 2\n",
        "  return value"
      ]
    },
    {
      "cell_type": "code",
      "execution_count": null,
      "metadata": {
        "colab": {
          "base_uri": "https://localhost:8080/"
        },
        "id": "JU6Mq-B8iTG-",
        "outputId": "0dd572c0-e49d-4eb5-9b97-94ec27058afe"
      },
      "outputs": [
        {
          "name": "stdout",
          "output_type": "stream",
          "text": [
            "Digite um valor: 34\n",
            "17.0\n"
          ]
        }
      ],
      "source": [
        "twenty_value = float(input(\"Digite um valor: \"))\n",
        "print(twenty_case(value=twenty_value))"
      ]
    },
    {
      "cell_type": "markdown",
      "metadata": {
        "id": "BqtN5HSeilAl"
      },
      "source": [
        "7. Faça um programa para ler dois números inteiros e efetuar a adição; caso resultado seja maior do que 10, apresenta-lo; caso contrário, imprimir seu dobro."
      ]
    },
    {
      "cell_type": "code",
      "execution_count": null,
      "metadata": {
        "id": "I9GdCRaoj1mw"
      },
      "outputs": [],
      "source": [
        "def add_two_numbers(first_value: int, second_value: int) -> int:\n",
        "  sum_values = first_value + second_value\n",
        "  if sum_values > 10:\n",
        "    return sum_values\n",
        "  return 2 * sum_values"
      ]
    },
    {
      "cell_type": "code",
      "execution_count": null,
      "metadata": {
        "colab": {
          "base_uri": "https://localhost:8080/"
        },
        "id": "ZlC6wqX1kbye",
        "outputId": "b4417028-0adf-4e5d-d563-c91bddd7245f"
      },
      "outputs": [
        {
          "name": "stdout",
          "output_type": "stream",
          "text": [
            "Digite o primeiro valor: 3\n",
            "Digite o segundo valor: 4\n",
            "14.0\n"
          ]
        }
      ],
      "source": [
        "first_num = float(input(\"Digite o primeiro valor: \"))\n",
        "second_num = float(input(\"Digite o segundo valor: \"))\n",
        "print(add_two_numbers(first_value=first_num, second_value=second_num))"
      ]
    },
    {
      "cell_type": "markdown",
      "metadata": {
        "id": "aZDEVUf5k-sl"
      },
      "source": [
        "9. Faça um programa que leia um número e mostre uma mensagem indicando se este\n",
        "número é ímpar."
      ]
    },
    {
      "cell_type": "code",
      "execution_count": null,
      "metadata": {
        "id": "WcQKpDzWk-Yd"
      },
      "outputs": [],
      "source": [
        "def evaluate_odd_number(value: int) -> str:\n",
        "  if value % 2 != 0:\n",
        "    return f\"O número {value} é ímpar!\"\n",
        "  return f\"O número {value} é par!\""
      ]
    },
    {
      "cell_type": "code",
      "execution_count": null,
      "metadata": {
        "colab": {
          "base_uri": "https://localhost:8080/"
        },
        "id": "ZMcOzRfhl1S8",
        "outputId": "ad9f7354-2cbd-45a1-8e92-914615bab882"
      },
      "outputs": [
        {
          "name": "stdout",
          "output_type": "stream",
          "text": [
            "Digite um valor inteiro positivo: 15\n",
            "O número 15.0 é ímpar!\n"
          ]
        }
      ],
      "source": [
        "odd_value = float(input(\"Digite um valor inteiro positivo: \"))\n",
        "print(evaluate_odd_number(value=odd_value))"
      ]
    },
    {
      "cell_type": "markdown",
      "metadata": {
        "id": "84XtndWvmLzo"
      },
      "source": [
        "10. Escrever um programa para ler e imprimir três números:\n",
        "- Se o primeiro for positivo, imprimir sua metade, caso contrário, imprimir o seu quadrado\n",
        "- Se o segundo número for maior que 10 e menor que 100, imprimir a mensagem:\n",
        "“Número está entre 10 e 100 – intervalo permitido”\n",
        "- Se o terceiro número for menor que o segundo, calcular e imprimir a diferença entre\n",
        "eles, caso contrário, imprimir o terceiro número adicionado de 1."
      ]
    },
    {
      "cell_type": "code",
      "execution_count": null,
      "metadata": {
        "id": "2g1cL9sAoZlK"
      },
      "outputs": [],
      "source": [
        "def otherwise_positive_half(value: float) -> float:\n",
        "  if value > 0:\n",
        "    return value / 2\n",
        "  return value ** 2\n",
        "\n",
        "def between_ten_hundred(value: float) -> Union[str, None]:\n",
        "  if 10 < value < 100:\n",
        "    return \"Número está entre 10 e 100 – intervalo permitido\"\n",
        "\n",
        "def smaller_second_difference(first_value: float, second_value: float) -> float:\n",
        "  if second_value > first_value:\n",
        "    return second_value - first_value\n",
        "  return second_value + 1"
      ]
    },
    {
      "cell_type": "code",
      "execution_count": null,
      "metadata": {
        "colab": {
          "base_uri": "https://localhost:8080/"
        },
        "id": "1GrFJIANnQnu",
        "outputId": "b345301b-3702-46fe-c03c-5cafff93e6bf"
      },
      "outputs": [
        {
          "name": "stdout",
          "output_type": "stream",
          "text": [
            "Digite o primeiro valor: 20\n",
            "Digite o segundo valor: 14\n",
            "Digite o terceiro valor: 54\n",
            "10.0\n",
            "Número está entre 10 e 100 – intervalo permitido\n",
            "40.0\n"
          ]
        }
      ],
      "source": [
        "first_num = float(input(\"Digite o primeiro valor: \"))\n",
        "second_num = float(input(\"Digite o segundo valor: \"))\n",
        "third_num = float(input(\"Digite o terceiro valor: \"))\n",
        "\n",
        "print(otherwise_positive_half(value=first_num))\n",
        "print(between_ten_hundred(value=second_num))\n",
        "print(smaller_second_difference(first_value=second_num, second_value=third_num))"
      ]
    }
  ],
  "metadata": {
    "colab": {
      "collapsed_sections": [
        "m3CMA4sJpwFC"
      ],
      "provenance": []
    },
    "kernelspec": {
      "display_name": "Python 3",
      "name": "python3"
    },
    "language_info": {
      "codemirror_mode": {
        "name": "ipython",
        "version": 3
      },
      "file_extension": ".py",
      "mimetype": "text/x-python",
      "name": "python",
      "nbconvert_exporter": "python",
      "pygments_lexer": "ipython3",
      "version": "3.11.3"
    }
  },
  "nbformat": 4,
  "nbformat_minor": 0
}
